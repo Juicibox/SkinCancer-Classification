{
 "cells": [
  {
   "cell_type": "code",
   "execution_count": 7,
   "id": "a6303eae",
   "metadata": {},
   "outputs": [],
   "source": [
    "import os"
   ]
  },
  {
   "cell_type": "code",
   "execution_count": 9,
   "id": "de8704f0",
   "metadata": {},
   "outputs": [
    {
     "data": {
      "text/plain": [
       "'C:\\\\Users\\\\hp\\\\Documents\\\\Projects\\\\Python\\\\SkinCancer\\\\SkinCancer-Classification\\\\research'"
      ]
     },
     "execution_count": 9,
     "metadata": {},
     "output_type": "execute_result"
    }
   ],
   "source": [
    "%pwd"
   ]
  },
  {
   "cell_type": "code",
   "execution_count": 10,
   "id": "f6547c81",
   "metadata": {},
   "outputs": [],
   "source": [
    "#os.chdir(\"../\")"
   ]
  },
  {
   "cell_type": "code",
   "execution_count": 11,
   "id": "40ac1d34",
   "metadata": {},
   "outputs": [
    {
     "data": {
      "text/plain": [
       "'C:\\\\Users\\\\hp\\\\Documents\\\\Projects\\\\Python\\\\SkinCancer\\\\SkinCancer-Classification'"
      ]
     },
     "execution_count": 11,
     "metadata": {},
     "output_type": "execute_result"
    }
   ],
   "source": [
    "%pwd"
   ]
  },
  {
   "cell_type": "code",
   "execution_count": 43,
   "id": "f3732d8c",
   "metadata": {},
   "outputs": [],
   "source": [
    "from dataclasses import dataclass\n",
    "from pathlib import Path\n",
    "\n",
    "@dataclass(frozen=True)\n",
    "class TrainingConfig:\n",
    "    root_dir: Path\n",
    "    trained_model_path: Path\n",
    "    updated_base_model_path: Path\n",
    "    training_data: Path\n",
    "    params_epochs: int\n",
    "    params_batch_size: int\n",
    "    params_is_augmentation: bool\n",
    "    params_image_size: list\n",
    "        \n",
    "        \n",
    "@dataclass(frozen=True)\n",
    "class PrepareCallbacksConfig:\n",
    "    root_dir: Path\n",
    "    tensorboard_root_log_dir: Path\n",
    "    checkpoint_model_filepath: Path\n",
    "    "
   ]
  },
  {
   "cell_type": "code",
   "execution_count": 44,
   "id": "a574f9ac",
   "metadata": {},
   "outputs": [],
   "source": [
    "from cnnClassifier.constants import *\n",
    "from cnnClassifier.utils.common import read_yaml, create_directories\n",
    "import tensorflow as tf"
   ]
  },
  {
   "cell_type": "code",
   "execution_count": 45,
   "id": "e36365d4",
   "metadata": {},
   "outputs": [],
   "source": [
    "class ConfigurationManager:\n",
    "    def __init__(\n",
    "        self,\n",
    "        config_file_path= CONFIG_FILE_PATH,\n",
    "        params_file_path= PARAMS_FILE_PATH):\n",
    "        self.config = read_yaml(config_file_path)\n",
    "        self.params = read_yaml(params_file_path)\n",
    "        create_directories([self.config.artifacts_root])\n",
    "        \n",
    "        \n",
    "    def get_prepare_callback_config(self) -> PrepareCallbacksConfig:\n",
    "        config = self.config.prepare_callbacks\n",
    "        model_ckpt_dir =os.path.dirname(config.checkpoint_model_filepath)\n",
    "        create_directories([Path(model_ckpt_dir),Path(config.tensorboard_root_log_dir)])\n",
    "        \n",
    "        prepare_callback_config = PrepareCallbacksConfig(root_dir=Path(config.root_dir),\n",
    "                                                         tensorboard_root_log_dir=Path(config.tensorboard_root_log_dir),\n",
    "                                                         checkpoint_model_filepath=Path(config.checkpoint_model_filepath))\n",
    "        \n",
    "        return prepare_callback_config\n",
    "    \n",
    "    \n",
    "    def get_training_config(self) -> TrainingConfig:\n",
    "        training = self.config.training\n",
    "        prepare_base_model = self.config.prepare_base_model\n",
    "        params = self.params\n",
    "        training_data = self.config.data_ingestion.unzip_dir\n",
    "        create_directories([Path(training.root_dir)])\n",
    "        \n",
    "        training_config = TrainingConfig(\n",
    "            root_dir=Path(training.root_dir),\n",
    "            trained_model_path=Path(training.trained_model_path),\n",
    "            updated_base_model_path=Path(prepare_base_model.updated_base_model_path),\n",
    "            training_data=Path(training_data),\n",
    "            params_epochs=params.EPOCHS,\n",
    "            params_batch_size=params.BATCH_SIZE,\n",
    "            params_is_augmentation=params.AUGMENTATION,\n",
    "            params_image_size=params.IMAGE_SIZE)\n",
    "        \n",
    "        return training_config\n",
    "        \n",
    "    "
   ]
  },
  {
   "cell_type": "code",
   "execution_count": 46,
   "id": "a478223d",
   "metadata": {},
   "outputs": [],
   "source": [
    "import time"
   ]
  },
  {
   "cell_type": "code",
   "execution_count": 47,
   "id": "2234a7ee",
   "metadata": {},
   "outputs": [],
   "source": [
    "class PrepareCallback:\n",
    "    def __init__(self, config: PrepareCallbacksConfig):\n",
    "        self.config = config\n",
    "        \n",
    "    @property\n",
    "    def _create_tb_callbacks(self):\n",
    "        timestamp = time.strftime(\"%Y-%m-%d-%H-%M-%S\")\n",
    "        tb_running_log_dir = os.path.join(self.config.tensorboard_root_log_dir, f\"tb_logs_at_{timestamp}\")\n",
    "        return tf.keras.callbacks.TensorBoard(log_dir=tb_running_log_dir)\n",
    "    \n",
    "    @property\n",
    "    def _create_ckpt_callbacks(self):\n",
    "        \n",
    "        return tf.keras.callbacks.ModelCheckpoint(filepath=self.config.checkpoint_model_filepath, save_best_only=True)\n",
    "    \n",
    "    \n",
    "    \n",
    "    def get_tb_ckpt_callbacks(self):\n",
    "        return [self._create_tb_callbacks, self._create_ckpt_callbacks]"
   ]
  },
  {
   "cell_type": "code",
   "execution_count": 48,
   "id": "62774314",
   "metadata": {},
   "outputs": [],
   "source": [
    "import os\n",
    "import urllib.request as request\n",
    "from zipfile import ZipFile\n",
    "import tensorflow as tf\n",
    "import time"
   ]
  },
  {
   "cell_type": "code",
   "execution_count": 49,
   "id": "2265ac2b",
   "metadata": {},
   "outputs": [],
   "source": [
    "class Training:\n",
    "    def __init__(self, config: TrainingConfig):\n",
    "        self.config = config\n",
    "        \n",
    "    def get_base_model(self):\n",
    "        self.model = tf.keras.models.load_model(self.config.updated_base_model_path)\n",
    "        \n",
    "    def train_valid_generator(self):\n",
    "        datagenerator_kwargs = dict(rescale = 1./255,\n",
    "                                   validation_split=0.20)\n",
    "        \n",
    "        dataflow_kwargs = dict(target_size=self.config.params_image_size[:-1],\n",
    "                              batch_size=self.config.params_batch_size,\n",
    "                              interpolation=\"bilinear\")\n",
    "        \n",
    "        valid_datagenerator = tf.keras.preprocessing.image.ImageDataGenerator(**datagenerator_kwargs)\n",
    "        \n",
    "        self.valid_generator = valid_datagenerator.flow_from_directory(directory=self.config.training_data,\n",
    "                                                                      subset=\"validation\",\n",
    "                                                                      shuffle=False,\n",
    "                                                                      **dataflow_kwargs)\n",
    "        \n",
    "        if self.config.params_is_augmentation:\n",
    "            train_datagenerator = tf.keras.preprocessing.image.ImageDataGenerator(rotation_range=40,\n",
    "                                                                                 horizontal_flip=True,\n",
    "                                                                                 width_shift_range=0.2,\n",
    "                                                                                 height_shift_range=0.2,\n",
    "                                                                                 shear_range=0.2,\n",
    "                                                                                 zoom_range=0.2,\n",
    "                                                                                 **datagenerator_kwargs)\n",
    "        else:\n",
    "            train_datagenerator = valid_datagenerator\n",
    "            \n",
    "        self.train_generator = train_datagenerator.flow_from_directory(directory=self.config.training_data,\n",
    "                                                                      subset=\"training\",\n",
    "                                                                      shuffle=True,\n",
    "                                                                      **dataflow_kwargs)\n",
    "    @staticmethod\n",
    "    def save_model(path: Path, model: tf.keras.Model):\n",
    "        model.save(path)\n",
    "        \n",
    "    def train(self, callback_list: list):\n",
    "        self.steps_per_epoch = self.train_generator.samples // self.train_generator.batch_size\n",
    "        self.validation_steps = self.valid_generator.samples // self.valid_generator.batch_size\n",
    "        \n",
    "        self.model.fit(self.train_generator,\n",
    "                      epochs=self.config.params_epochs,\n",
    "                      steps_per_epoch=self.steps_per_epoch,\n",
    "                      validation_steps=self.validation_steps,\n",
    "                      validation_data=self.valid_generator,\n",
    "                      callbacks=callback_list)      \n",
    "        \n",
    "        self.save_model(path=self.config.trained_model_path,\n",
    "                       model=self.model)\n",
    "        "
   ]
  },
  {
   "cell_type": "code",
   "execution_count": 50,
   "id": "cc09173e",
   "metadata": {},
   "outputs": [
    {
     "name": "stdout",
     "output_type": "stream",
     "text": [
      "[2024-10-16 10:20:58,340: INFO: common: Reading the yaml file from config\\config.yaml]\n",
      "[2024-10-16 10:20:58,371: INFO: common: Reading the yaml file from params.yaml]\n",
      "[2024-10-16 10:20:58,371: INFO: common: Directory created at artifacts]\n",
      "[2024-10-16 10:20:58,387: INFO: common: Directory created at artifacts\\prepare_callbacks\\checkpoint_dir]\n",
      "[2024-10-16 10:20:58,387: INFO: common: Directory created at artifacts\\prepare_callbacks\\tensorboard_log_dir]\n",
      "[2024-10-16 10:20:58,403: INFO: common: Directory created at artifacts\\training]\n",
      "Found 642 images belonging to 2 classes.\n",
      "Found 2574 images belonging to 2 classes.\n",
      "\u001b[1m160/160\u001b[0m \u001b[32m━━━━━━━━━━━━━━━━━━━━\u001b[0m\u001b[37m\u001b[0m \u001b[1m2351s\u001b[0m 15s/step - accuracy: 0.5133 - loss: 14.0707 - val_accuracy: 0.7984 - val_loss: 1.7119\n"
     ]
    }
   ],
   "source": [
    "try: \n",
    "    config = ConfigurationManager()\n",
    "    prepare_callbacks_config = config.get_prepare_callback_config()\n",
    "    prepare_callbacks = PrepareCallback(config=prepare_callbacks_config)\n",
    "    callback_list = prepare_callbacks.get_tb_ckpt_callbacks()\n",
    "    \n",
    "    training_config = config.get_training_config()\n",
    "    training = Training(config=training_config)\n",
    "    training.get_base_model()\n",
    "    training.train_valid_generator()\n",
    "    training.train(callback_list=callback_list)\n",
    "    \n",
    "except Exception as e:\n",
    "    raise e"
   ]
  },
  {
   "cell_type": "code",
   "execution_count": 51,
   "id": "28cb889e",
   "metadata": {},
   "outputs": [
    {
     "name": "stdout",
     "output_type": "stream",
     "text": [
      "ya\n"
     ]
    }
   ],
   "source": [
    "print(\"ya\")"
   ]
  }
 ],
 "metadata": {
  "kernelspec": {
   "display_name": "Python [conda env:skin]",
   "language": "python",
   "name": "conda-env-skin-py"
  },
  "language_info": {
   "codemirror_mode": {
    "name": "ipython",
    "version": 3
   },
   "file_extension": ".py",
   "mimetype": "text/x-python",
   "name": "python",
   "nbconvert_exporter": "python",
   "pygments_lexer": "ipython3",
   "version": "3.9.13"
  }
 },
 "nbformat": 4,
 "nbformat_minor": 5
}
