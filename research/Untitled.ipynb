{
 "cells": [
  {
   "cell_type": "code",
   "execution_count": 1,
   "id": "bfd2b7e5",
   "metadata": {},
   "outputs": [],
   "source": [
    "import os"
   ]
  },
  {
   "cell_type": "code",
   "execution_count": 75,
   "id": "af63d95e",
   "metadata": {},
   "outputs": [
    {
     "data": {
      "text/plain": [
       "'C:\\\\Users\\\\hp\\\\Documents\\\\Projects\\\\Python\\\\SkinCancer\\\\SkinCancer-Classification'"
      ]
     },
     "execution_count": 75,
     "metadata": {},
     "output_type": "execute_result"
    }
   ],
   "source": [
    "%pwd"
   ]
  },
  {
   "cell_type": "code",
   "execution_count": 74,
   "id": "846a2eca",
   "metadata": {},
   "outputs": [],
   "source": [
    "import os\n",
    "os.chdir(\"C:/Users/hp/Documents/Projects/Python/SkinCancer/SkinCancer-Classification\")\n"
   ]
  },
  {
   "cell_type": "code",
   "execution_count": 14,
   "id": "0129f400",
   "metadata": {},
   "outputs": [],
   "source": [
    "os.chdir(\"../\")"
   ]
  },
  {
   "cell_type": "code",
   "execution_count": 15,
   "id": "ff52d933",
   "metadata": {},
   "outputs": [
    {
     "data": {
      "text/plain": [
       "'C:\\\\Users\\\\hp\\\\Documents\\\\Projects\\\\Python\\\\SkinCancer'"
      ]
     },
     "execution_count": 15,
     "metadata": {},
     "output_type": "execute_result"
    }
   ],
   "source": [
    "%pwd"
   ]
  },
  {
   "cell_type": "code",
   "execution_count": 76,
   "id": "12bfaf9a",
   "metadata": {},
   "outputs": [],
   "source": [
    "from dataclasses import dataclass\n",
    "from pathlib import Path\n",
    "\n",
    "@dataclass(frozen=True)\n",
    "class DataIngestionConfig:\n",
    "    root_dir: Path\n",
    "    source_URL1: str\n",
    "    source_URL2: str\n",
    "    local_data_file1: Path\n",
    "    local_data_file2: Path\n",
    "    unzip_dir: Path"
   ]
  },
  {
   "cell_type": "code",
   "execution_count": 77,
   "id": "adec3e8a",
   "metadata": {},
   "outputs": [],
   "source": [
    "from cnnClassifier.constants import *\n",
    "from cnnClassifier.utils.common import read_yaml, create_directories"
   ]
  },
  {
   "cell_type": "code",
   "execution_count": 84,
   "id": "9b73edea",
   "metadata": {},
   "outputs": [],
   "source": [
    "class ConfigurationManager:\n",
    "    def __init__(\n",
    "        self,\n",
    "        config_filepath = CONFIG_FILE_PATH,\n",
    "        params_filepath = PARAMS_FILE_PATH):\n",
    "\n",
    "        self.config = read_yaml(config_filepath)\n",
    "        self.params = read_yaml(params_filepath)\n",
    "\n",
    "        create_directories([self.config.artifacts_root])\n",
    "    \n",
    "    def get_data_ingestion_config(self) -> DataIngestionConfig:\n",
    "        config = self.config.data_ingestion\n",
    "        \n",
    "        create_directories([config.root_dir])\n",
    "        \n",
    "        data_ingestion_config = DataIngestionConfig(\n",
    "            root_dir=config.root_dir,\n",
    "            source_URL1=config.source_URL1,\n",
    "            source_URL2=config.source_URL2,\n",
    "            local_data_file1=config.local_data_file1,\n",
    "            local_data_file2=config.local_data_file2,\n",
    "            unzip_dir=config.unzip_dir)\n",
    "        \n",
    "        return data_ingestion_config"
   ]
  },
  {
   "cell_type": "code",
   "execution_count": 85,
   "id": "25b21f31",
   "metadata": {},
   "outputs": [],
   "source": [
    "import os\n",
    "import urllib.request as request\n",
    "import zipfile\n",
    "from cnnClassifier import logger\n",
    "from cnnClassifier.utils.common import get_size"
   ]
  },
  {
   "cell_type": "code",
   "execution_count": 88,
   "id": "f6be9baa",
   "metadata": {},
   "outputs": [],
   "source": [
    "class DataIngestion:\n",
    "    def __init__(self, config: DataIngestionConfig):\n",
    "        self.config = config\n",
    "        \n",
    "        \n",
    "    def download_file(self):\n",
    "            \n",
    "        if not os.path.exists(self.config.local_data_file1):\n",
    "            filename1, headers1 = request.urlretrieve(\n",
    "                url=self.config.source_URL1, \n",
    "                filename=self.config.local_data_file1)\n",
    "            logger.info(f\"{filename1} downloaded! with following info: \\n{headers1}\")\n",
    "        else:\n",
    "            logger.info(f\"File already exists: {self.config.local_data_file1} of size: {get_size(Path(self.config.local_data_file1))}\")\n",
    "\n",
    "        # Descargar archivo de la segunda URL\n",
    "        if not os.path.exists(self.config.local_data_file2):\n",
    "            filename2, headers2 = request.urlretrieve(\n",
    "                url=self.config.source_URL2, \n",
    "                filename=self.config.local_data_file2)\n",
    "            logger.info(f\"{filename2} downloaded! with following info: \\n{headers2}\")\n",
    "        else:\n",
    "            logger.info(f\"File already exists: {self.config.local_data_file2} of size: {get_size(Path(self.config.local_data_file2))}\")\n",
    "            \n",
    "    def extract_zip_file(self):\n",
    "        \"\"\"\n",
    "        zip_file_path: str\n",
    "        Extract the zip file into the data directory\n",
    "        Function returns None\n",
    "        \"\"\"\n",
    "        unzip_path = self.config.unzip_dir\n",
    "        os.makedirs(unzip_path, exist_ok=True)\n",
    "        if os.path.exists(self.config.local_data_file1):\n",
    "            \n",
    "            with zipfile.ZipFile(self.config.local_data_file1, 'r') as zip_ref:\n",
    "                zip_ref.extractall(unzip_path)\n",
    "            logger.info(f\"Extracted {self.config.local_data_file1} to {unzip_path}\")\n",
    "\n",
    "    # Extraer el segundo archivo ZIP\n",
    "        if os.path.exists(self.config.local_data_file2):\n",
    "            with zipfile.ZipFile(self.config.local_data_file2, 'r') as zip_ref:\n",
    "                zip_ref.extractall(unzip_path)\n",
    "            logger.info(f\"Extracted {self.config.local_data_file2} to {unzip_path}\")"
   ]
  },
  {
   "cell_type": "code",
   "execution_count": 89,
   "id": "81a8b4d2",
   "metadata": {},
   "outputs": [
    {
     "name": "stdout",
     "output_type": "stream",
     "text": [
      "[2024-10-14 12:14:43,875: INFO: common: Reading the yaml file from config\\config.yaml]\n",
      "[2024-10-14 12:14:43,891: INFO: common: Reading the yaml file from params.yaml]\n",
      "[2024-10-14 12:14:43,891: INFO: common: Directory created at artifacts]\n",
      "[2024-10-14 12:14:43,891: INFO: common: Directory created at artifacts/data_ingestion]\n",
      "[2024-10-14 12:14:43,906: INFO: 1937193348: File already exists: artifacts/data_ingestion/data.zip of size: ~25490.92 kb]\n",
      "[2024-10-14 12:14:43,906: INFO: 1937193348: File already exists: artifacts/data_ingestion/data2.zip of size: ~25153.93 kb]\n",
      "[2024-10-14 12:14:47,728: INFO: 1937193348: Extracted artifacts/data_ingestion/data.zip to artifacts/data_ingestion]\n",
      "[2024-10-14 12:14:51,009: INFO: 1937193348: Extracted artifacts/data_ingestion/data2.zip to artifacts/data_ingestion]\n"
     ]
    }
   ],
   "source": [
    "try: \n",
    "    config = ConfigurationManager()\n",
    "    data_ingestion_config = config.get_data_ingestion_config()\n",
    "    data_ingestion = DataIngestion(config=data_ingestion_config)\n",
    "    data_ingestion.download_file()\n",
    "    data_ingestion.extract_zip_file()\n",
    "except Exception as e:\n",
    "    raise e"
   ]
  },
  {
   "cell_type": "code",
   "execution_count": null,
   "id": "3014d260",
   "metadata": {},
   "outputs": [],
   "source": []
  },
  {
   "cell_type": "code",
   "execution_count": null,
   "id": "60acbd5b",
   "metadata": {},
   "outputs": [],
   "source": []
  }
 ],
 "metadata": {
  "kernelspec": {
   "display_name": "Python [conda env:skin]",
   "language": "python",
   "name": "conda-env-skin-py"
  },
  "language_info": {
   "codemirror_mode": {
    "name": "ipython",
    "version": 3
   },
   "file_extension": ".py",
   "mimetype": "text/x-python",
   "name": "python",
   "nbconvert_exporter": "python",
   "pygments_lexer": "ipython3",
   "version": "3.9.13"
  }
 },
 "nbformat": 4,
 "nbformat_minor": 5
}
